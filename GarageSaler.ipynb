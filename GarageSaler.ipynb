{
 "cells": [
  {
   "cell_type": "markdown",
   "metadata": {},
   "source": [
    "#Garage Saler \n",
    "\n",
    "A small project to practice web scraping, data aggregation and management, and hopefully some mapping and eventually machine learning (image recognition) tools. The goal of the project is to answer the question: \"Are there any estate/garage sales near me, and if so, is there anything there that I want?\" \n",
    "\n",
    "Resources: \n",
    "\n",
    "https://googlemaps.github.io/google-maps-services-python/docs/2.2/\n",
    "\n",
    "https://developers.google.com/maps/documentation/static-maps/intro\n",
    "\n",
    "http://www.estatesales.net/GA/Decatur/30033\n",
    "\n",
    "http://chrisholdgraf.com/querying-craigslist-with-python/\n",
    "\n",
    "http://pythontips.com/2013/08/08/storing-and-loading-data-with-json/\n",
    "\n",
    "http://vision.alchemy.ai/\n"
   ]
  },
  {
   "cell_type": "markdown",
   "metadata": {},
   "source": [
    "Imports:\n",
    "\n",
    "I've moved most of the code to a module garagesaler.py. I'm using this ipython notebook for testing new additions to the code and record keeping. "
   ]
  },
  {
   "cell_type": "code",
   "execution_count": 6,
   "metadata": {
    "collapsed": true
   },
   "outputs": [],
   "source": [
    "%matplotlib inline\n",
    "from garagesaler import *"
   ]
  },
  {
   "cell_type": "markdown",
   "metadata": {},
   "source": [
    "data collection:"
   ]
  },
  {
   "cell_type": "code",
   "execution_count": 7,
   "metadata": {
    "collapsed": false
   },
   "outputs": [],
   "source": [
    "sales = getdata()"
   ]
  },
  {
   "cell_type": "markdown",
   "metadata": {},
   "source": [
    "init, html parsing and OO data organization: "
   ]
  },
  {
   "cell_type": "code",
   "execution_count": 8,
   "metadata": {
    "collapsed": false
   },
   "outputs": [],
   "source": [
    "# Get user-specific values from file\n",
    "with open('user_values.txt') as myfile:\n",
    "    Gstaticmap_apikey = myfile.readline().rstrip()\n",
    "    Sale.gmaps_apikey = myfile.readline().rstrip()\n",
    "    Sale.homeaddr = myfile.readline().rstrip()\n",
    "    \n",
    "# Get current sales and update location\n",
    "sale_info_list = [EstateSale(e) for e in sales]\n",
    "\n",
    "# Update home info\n",
    "if Sale.homelat is None:\n",
    "    (Sale.homelat, Sale.homelng) = \\\n",
    "            sale_info_list[0].getlatlng(Sale.homeaddr)"
   ]
  },
  {
   "cell_type": "markdown",
   "metadata": {},
   "source": [
    "Finding a route from the user's home location to one or more nearby sales:"
   ]
  },
  {
   "cell_type": "code",
   "execution_count": null,
   "metadata": {
    "collapsed": false
   },
   "outputs": [],
   "source": [
    "# Optimize route\n",
    "waypoints = getwalkingroute(Sale.gmaps_apikey, Sale.homeaddr, \\\n",
    "                            sale_info_list, 17000)\n",
    "\n",
    "\n"
   ]
  },
  {
   "cell_type": "code",
   "execution_count": null,
   "metadata": {
    "collapsed": false
   },
   "outputs": [],
   "source": [
    "#Plotting all nearby sales\n",
    "myurl = plotsalemap(waypoints.tolist(), Gstaticmap_apikey, Sale.homeaddr)\n",
    "webbrowser.open(myurl)\n",
    "#Plotting a route that includes the two closest sales\n",
    "myurl = plotroute(waypoints[:3,0:2].tolist(), Gstaticmap_apikey, Sale.homeaddr)\n",
    "webbrowser.open(myurl)"
   ]
  },
  {
   "cell_type": "code",
   "execution_count": null,
   "metadata": {
    "collapsed": true
   },
   "outputs": [],
   "source": []
  }
 ],
 "metadata": {
  "kernelspec": {
   "display_name": "Python 2",
   "language": "python",
   "name": "python2"
  },
  "language_info": {
   "codemirror_mode": {
    "name": "ipython",
    "version": 2
   },
   "file_extension": ".py",
   "mimetype": "text/x-python",
   "name": "python",
   "nbconvert_exporter": "python",
   "pygments_lexer": "ipython2",
   "version": "2.7.9"
  }
 },
 "nbformat": 4,
 "nbformat_minor": 0
}
